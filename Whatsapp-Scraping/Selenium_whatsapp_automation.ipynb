{
 "cells": [
  {
   "cell_type": "code",
   "execution_count": null,
   "id": "70f162a5-71f8-4309-bf65-1339b585a169",
   "metadata": {},
   "outputs": [],
   "source": [
    "#pip install webdriver-manager selenium "
   ]
  },
  {
   "cell_type": "code",
   "execution_count": 58,
   "id": "0a5add8e-e38e-410e-9d7e-ac2915f78216",
   "metadata": {
    "tags": []
   },
   "outputs": [],
   "source": [
    "group_names = [\"ScrapingTesting\" , \"G1 Branch\"]"
   ]
  },
  {
   "cell_type": "code",
   "execution_count": 57,
   "id": "91a91249-3049-4353-ba78-9994b434739c",
   "metadata": {
    "tags": []
   },
   "outputs": [],
   "source": [
    "from selenium import webdriver\n",
    "from selenium.webdriver.chrome.service import Service\n",
    "from selenium.webdriver.chrome.options import Options\n",
    "from webdriver_manager.chrome import ChromeDriverManager\n",
    "from selenium.webdriver.support.ui import WebDriverWait\n",
    "from selenium.webdriver.support import expected_conditions as EC\n",
    "import os\n",
    "from selenium.webdriver.common.by import By\n",
    "import csv\n",
    "import time\n",
    "\n",
    "chrome_options = Options()\n",
    "chrome_options.add_argument(\"user-data-dir=selenium\") \n",
    "service = Service(ChromeDriverManager().install())\n",
    "driver = webdriver.Chrome(service=service, options=chrome_options)\n",
    "\n",
    "driver.get(\"https://web.whatsapp.com/\")"
   ]
  },
  {
   "cell_type": "code",
   "execution_count": 59,
   "id": "beb38b0b-0504-4df3-b26e-b6d9ac13be8c",
   "metadata": {
    "tags": []
   },
   "outputs": [],
   "source": [
    "def split_date_time_name(a):\n",
    "    pattern = r'\\[(.*?), (.*?)\\] (.*?):'\n",
    "    match = re.match(pattern, a)\n",
    "    return(match.group(1) ,  match.group(2) ,  match.group(3) )\n",
    "\n",
    "\n",
    "def extract_messages_to_csv():\n",
    "    x_path_of_all_text_messages = '//div[@role = \"row\"]//div[contains(@class , \"copyable-text\")]'\n",
    "    message_elements = driver.find_elements(By.XPATH, x_path_of_all_text_messages )\n",
    "    for message_element in message_elements : \n",
    "        text_data = message_element.get_attribute(\"data-pre-plain-text\")\n",
    "        text_message_xpath = './/span[@dir = \"ltr\"]/span'\n",
    "        text_message = message_element.find_element(By.XPATH, text_message_xpath)\n",
    "        splitted_data = split_date_time_name(text_data)\n",
    "        append_data = [group_name , splitted_data[1] , splitted_data[2] , splitted_data[0] ,text_message.text  ]\n",
    "        writer.writerow(append_data)\n",
    "        \n",
    "\n",
    "        \n",
    "with open('whatsapp_messages.csv', 'w', newline='', encoding='utf-8') as file:\n",
    "    writer = csv.writer(file)\n",
    "    writer.writerow([\"Group Name\" , \"Date\" , \"Sender Name\", \"Time\", \"Message\"])\n",
    "    for group_name in group_names : \n",
    "        x_path = '//span[@dir = \"auto\" and @title =' +'\"'+ group_name + '\"]' \n",
    "        chathead_element = driver.find_element(By.XPATH, x_path )\n",
    "        chathead_element.click()\n",
    "        driver.execute_script('arguments[0].scrollTop = arguments[0].scrollHeight', chathead_element)\n",
    "        extract_messages_to_csv()\n",
    "    file.flush()"
   ]
  },
  {
   "cell_type": "code",
   "execution_count": null,
   "id": "e52952b7-9b40-4000-8d33-c65cfa0e00ac",
   "metadata": {
    "tags": []
   },
   "outputs": [],
   "source": [
    "driver.quit()"
   ]
  }
 ],
 "metadata": {
  "kernelspec": {
   "display_name": "Python 3 (ipykernel)",
   "language": "python",
   "name": "python3"
  },
  "language_info": {
   "codemirror_mode": {
    "name": "ipython",
    "version": 3
   },
   "file_extension": ".py",
   "mimetype": "text/x-python",
   "name": "python",
   "nbconvert_exporter": "python",
   "pygments_lexer": "ipython3",
   "version": "3.8.8"
  }
 },
 "nbformat": 4,
 "nbformat_minor": 5
}
